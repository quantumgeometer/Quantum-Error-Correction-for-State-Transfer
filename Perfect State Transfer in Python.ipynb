{
 "cells": [
  {
   "cell_type": "code",
   "execution_count": 1,
   "metadata": {},
   "outputs": [],
   "source": [
    "import numpy as np\n",
    "import math\n",
    "import scipy\n",
    "from scipy import linalg\n",
    "from matplotlib import pyplot as plt\n",
    "from matplotlib.ticker import FuncFormatter, MultipleLocator\n",
    "from mod2 import mod10_to_mod2 as dec2bin"
   ]
  },
  {
   "cell_type": "markdown",
   "metadata": {},
   "source": [
    "Create function for an n-qubit statevector emulator."
   ]
  },
  {
   "cell_type": "code",
   "execution_count": 2,
   "metadata": {},
   "outputs": [],
   "source": [
    "def ket2state_vec(ket):\n",
    "    \n",
    "    #basis states\n",
    "    zero=np.array([1,0])\n",
    "    one=np.array([0,1]) \n",
    "    \n",
    "    #loop through ket\n",
    "    \n",
    "    if ket[0]==0: temp=zero\n",
    "    elif ket[0]==1: temp=one\n",
    "    \n",
    "    for i,_ in enumerate(ket):\n",
    "        \n",
    "        if i == len(ket)-1: break\n",
    "            \n",
    "        if ket[i+1]==0: temp2=zero\n",
    "        elif ket[i+1]==1: temp2=one\n",
    "    \n",
    "        temp=np.kron(temp,temp2)\n",
    "        \n",
    "    return temp"
   ]
  },
  {
   "cell_type": "markdown",
   "metadata": {},
   "source": [
    "Define the Pauli Matrices, the identity & a general kron (tensor product) function."
   ]
  },
  {
   "cell_type": "code",
   "execution_count": 3,
   "metadata": {},
   "outputs": [],
   "source": [
    "# Pauli matrices\n",
    "p_x = np.array([[0.,  1.], [1.,  0.]])\n",
    "p_y = np.array([[0., -1j], [1j,  0.]])\n",
    "p_z = np.array([[1.,  0.], [0., -1.]])\n",
    "I = np.identity(2)\n",
    "\n",
    "def k_kron(*args):\n",
    "    \"\"\"\n",
    "    The standard Python kron function takes only 2 inputs at a time by default, so we define another function that \n",
    "    takes in arbitrary inputs.\n",
    "    \"\"\"\n",
    "    ret = np.array([[1]])\n",
    "    for q in args:\n",
    "        ret = np.kron(ret, q)\n",
    "    return ret"
   ]
  },
  {
   "cell_type": "markdown",
   "metadata": {},
   "source": [
    "Create a function for state transfer over spin chain of length n, based on Hamiltonian for the Heisenberg XY model. "
   ]
  },
  {
   "cell_type": "code",
   "execution_count": 4,
   "metadata": {},
   "outputs": [],
   "source": [
    "def exchangeH(n):\n",
    "    \n",
    "    def J(k,n):\n",
    "        return (1/2)*math.sqrt((k+1)*(n-(k+1)))\n",
    "    \n",
    "    h=np.zeros((2**n,2**n)).astype(\"complex128\")\n",
    "\n",
    "    for k in range(n-1):\n",
    "        kron_list=[I]*n       \n",
    "        kron_list[k]=p_x \n",
    "        kron_list[k+1]=p_x \n",
    "\n",
    "        h+=J(k,n)*k_kron(*kron_list)\n",
    "\n",
    "    for k in range(n-1):\n",
    "        kron_list=[I]*n       \n",
    "        kron_list[k]=p_y\n",
    "        kron_list[k+1]=p_y\n",
    "\n",
    "        h+=J(k,n)*k_kron(*kron_list)   \n",
    "        \n",
    "    return(h/2)"
   ]
  },
  {
   "cell_type": "markdown",
   "metadata": {},
   "source": [
    "Define functions for unitary time evolution, computing fidelity of state transfer and generating arbitrary states."
   ]
  },
  {
   "cell_type": "code",
   "execution_count": 5,
   "metadata": {},
   "outputs": [],
   "source": [
    "def timeev(h,t):\n",
    "    return linalg.expm(-1j*h*t)\n",
    "def U(t):\n",
    "    return timeev(h,t)\n",
    "\n",
    "def fidelity(S,evS):\n",
    "    fidelity= abs(np.conjugate(S.T)@evS)\n",
    "    return fidelity\n",
    "\n",
    "def normalise(vec): \n",
    "    norm=np.sqrt(np.conjugate(vec).T@vec)\n",
    "    return vec/norm\n",
    "#function for creating  superposition states\n",
    "def superposition_state(a,b):\n",
    "  psi=a*ket2state_vec([0])+b*ket2state_vec([1])\n",
    "  return normalise(psi)"
   ]
  },
  {
   "cell_type": "markdown",
   "metadata": {},
   "source": [
    "Example initial and target states for state transfer."
   ]
  },
  {
   "cell_type": "code",
   "execution_count": 6,
   "metadata": {},
   "outputs": [
    {
     "data": {
      "text/plain": [
       "(array([0, 0, 0, 0, 0, 0, 0, 0, 0, 0, 0, 0, 0, 0, 0, 0, 0, 0, 0, 0, 0, 0,\n",
       "        0, 0, 0, 0, 0, 0, 0, 0, 0, 0, 0, 0, 0, 0, 0, 0, 0, 0, 0, 0, 0, 0,\n",
       "        0, 0, 0, 0, 0, 0, 0, 0, 0, 0, 0, 0, 0, 0, 0, 0, 0, 0, 0, 0, 1, 0,\n",
       "        0, 0, 0, 0, 0, 0, 0, 0, 0, 0, 0, 0, 0, 0, 0, 0, 0, 0, 0, 0, 0, 0,\n",
       "        0, 0, 0, 0, 0, 0, 0, 0, 0, 0, 0, 0, 0, 0, 0, 0, 0, 0, 0, 0, 0, 0,\n",
       "        0, 0, 0, 0, 0, 0, 0, 0, 0, 0, 0, 0, 0, 0, 0, 0, 0, 0]),\n",
       " array([0, 1, 0, 0, 0, 0, 0, 0, 0, 0, 0, 0, 0, 0, 0, 0, 0, 0, 0, 0, 0, 0,\n",
       "        0, 0, 0, 0, 0, 0, 0, 0, 0, 0, 0, 0, 0, 0, 0, 0, 0, 0, 0, 0, 0, 0,\n",
       "        0, 0, 0, 0, 0, 0, 0, 0, 0, 0, 0, 0, 0, 0, 0, 0, 0, 0, 0, 0, 0, 0,\n",
       "        0, 0, 0, 0, 0, 0, 0, 0, 0, 0, 0, 0, 0, 0, 0, 0, 0, 0, 0, 0, 0, 0,\n",
       "        0, 0, 0, 0, 0, 0, 0, 0, 0, 0, 0, 0, 0, 0, 0, 0, 0, 0, 0, 0, 0, 0,\n",
       "        0, 0, 0, 0, 0, 0, 0, 0, 0, 0, 0, 0, 0, 0, 0, 0, 0, 0]))"
      ]
     },
     "execution_count": 6,
     "metadata": {},
     "output_type": "execute_result"
    }
   ],
   "source": [
    "psi=ket2state_vec([1]) # |1>\n",
    "\n",
    "n=7 #spin chain length\n",
    "temp = ket2state_vec([0]*(n-1)) # |000...>\n",
    "\n",
    "#intial spin chain state (psi on left)\n",
    "def initial(psi):\n",
    "    return np.kron(psi,temp) # initial= |psi>\\otimes |000...>\n",
    "\n",
    "#final spin chain state (psi on right)\n",
    "def target(psi):\n",
    "    return np.kron(temp,psi) # target= |000...> \\otimes |psi>\n",
    "\n",
    "initial(psi), target(psi)"
   ]
  },
  {
   "cell_type": "markdown",
   "metadata": {},
   "source": [
    "Plot Fidelity over time for state transfer over spin chain of length n."
   ]
  },
  {
   "cell_type": "code",
   "execution_count": 7,
   "metadata": {},
   "outputs": [
    {
     "data": {
      "text/plain": [
       "Text(0.5, 1.0, 'State Transfer for state |1>  (XY, n=6 spin chain).')"
      ]
     },
     "execution_count": 7,
     "metadata": {},
     "output_type": "execute_result"
    },
    {
     "data": {
      "image/png": "[encoded data removed]",
      "text/plain": [
       "<Figure size 432x288 with 1 Axes>"
      ]
     },
     "metadata": {
      "needs_background": "light"
     },
     "output_type": "display_data"
    }
   ],
   "source": [
    "h=exchangeH(n)\n",
    "\n",
    "psi0= initial(psi)\n",
    "psi1= target(psi)\n",
    "\n",
    "timeS=(math.pi)*np.arange(0,9,0.01)\n",
    "\n",
    "f_list=[]\n",
    "\n",
    "for t in timeS:\n",
    "\n",
    "    evS=U(t)@psi0\n",
    "    f=fidelity(psi1,evS)\n",
    "    f_list.append(f)\n",
    "    \n",
    "f, ax=plt.subplots(1)\n",
    "    \n",
    "plt.plot(timeS, f_list)\n",
    "ax.xaxis.set_major_formatter(FuncFormatter(\n",
    "   lambda val,pos: '{:.0g}$\\pi$'.format(val/np.pi) if val !=0 else '0'\n",
    "))\n",
    "ax.xaxis.set_major_locator(MultipleLocator(base=np.pi))\n",
    "plt.xlabel(\"Time\")\n",
    "plt.ylabel(\"Fidelity of State Transfer\")\n",
    "plt.title('State Transfer for state |1>  (XY, n=6 spin chain).')"
   ]
  },
  {
   "cell_type": "markdown",
   "metadata": {},
   "source": [
    "Example initial and target states for state transfer of equal superposition state."
   ]
  },
  {
   "cell_type": "code",
   "execution_count": 8,
   "metadata": {},
   "outputs": [
    {
     "data": {
      "text/plain": [
       "(array([0.70710678, 0.        , 0.        , 0.        , 0.        ,\n",
       "        0.        , 0.        , 0.        , 0.        , 0.        ,\n",
       "        0.        , 0.        , 0.        , 0.        , 0.        ,\n",
       "        0.        , 0.        , 0.        , 0.        , 0.        ,\n",
       "        0.        , 0.        , 0.        , 0.        , 0.        ,\n",
       "        0.        , 0.        , 0.        , 0.        , 0.        ,\n",
       "        0.        , 0.        , 0.        , 0.        , 0.        ,\n",
       "        0.        , 0.        , 0.        , 0.        , 0.        ,\n",
       "        0.        , 0.        , 0.        , 0.        , 0.        ,\n",
       "        0.        , 0.        , 0.        , 0.        , 0.        ,\n",
       "        0.        , 0.        , 0.        , 0.        , 0.        ,\n",
       "        0.        , 0.        , 0.        , 0.        , 0.        ,\n",
       "        0.        , 0.        , 0.        , 0.        , 0.70710678,\n",
       "        0.        , 0.        , 0.        , 0.        , 0.        ,\n",
       "        0.        , 0.        , 0.        , 0.        , 0.        ,\n",
       "        0.        , 0.        , 0.        , 0.        , 0.        ,\n",
       "        0.        , 0.        , 0.        , 0.        , 0.        ,\n",
       "        0.        , 0.        , 0.        , 0.        , 0.        ,\n",
       "        0.        , 0.        , 0.        , 0.        , 0.        ,\n",
       "        0.        , 0.        , 0.        , 0.        , 0.        ,\n",
       "        0.        , 0.        , 0.        , 0.        , 0.        ,\n",
       "        0.        , 0.        , 0.        , 0.        , 0.        ,\n",
       "        0.        , 0.        , 0.        , 0.        , 0.        ,\n",
       "        0.        , 0.        , 0.        , 0.        , 0.        ,\n",
       "        0.        , 0.        , 0.        , 0.        , 0.        ,\n",
       "        0.        , 0.        , 0.        ]),\n",
       " array([0.70710678, 0.70710678, 0.        , 0.        , 0.        ,\n",
       "        0.        , 0.        , 0.        , 0.        , 0.        ,\n",
       "        0.        , 0.        , 0.        , 0.        , 0.        ,\n",
       "        0.        , 0.        , 0.        , 0.        , 0.        ,\n",
       "        0.        , 0.        , 0.        , 0.        , 0.        ,\n",
       "        0.        , 0.        , 0.        , 0.        , 0.        ,\n",
       "        0.        , 0.        , 0.        , 0.        , 0.        ,\n",
       "        0.        , 0.        , 0.        , 0.        , 0.        ,\n",
       "        0.        , 0.        , 0.        , 0.        , 0.        ,\n",
       "        0.        , 0.        , 0.        , 0.        , 0.        ,\n",
       "        0.        , 0.        , 0.        , 0.        , 0.        ,\n",
       "        0.        , 0.        , 0.        , 0.        , 0.        ,\n",
       "        0.        , 0.        , 0.        , 0.        , 0.        ,\n",
       "        0.        , 0.        , 0.        , 0.        , 0.        ,\n",
       "        0.        , 0.        , 0.        , 0.        , 0.        ,\n",
       "        0.        , 0.        , 0.        , 0.        , 0.        ,\n",
       "        0.        , 0.        , 0.        , 0.        , 0.        ,\n",
       "        0.        , 0.        , 0.        , 0.        , 0.        ,\n",
       "        0.        , 0.        , 0.        , 0.        , 0.        ,\n",
       "        0.        , 0.        , 0.        , 0.        , 0.        ,\n",
       "        0.        , 0.        , 0.        , 0.        , 0.        ,\n",
       "        0.        , 0.        , 0.        , 0.        , 0.        ,\n",
       "        0.        , 0.        , 0.        , 0.        , 0.        ,\n",
       "        0.        , 0.        , 0.        , 0.        , 0.        ,\n",
       "        0.        , 0.        , 0.        , 0.        , 0.        ,\n",
       "        0.        , 0.        , 0.        ]))"
      ]
     },
     "execution_count": 8,
     "metadata": {},
     "output_type": "execute_result"
    }
   ],
   "source": [
    "psi=superposition_state(a=1,b=1) #equal superposition state\n",
    "\n",
    "initial(psi), target(psi)"
   ]
  },
  {
   "cell_type": "markdown",
   "metadata": {},
   "source": [
    "Plot Fidelity over time for state transfer of equal superposition over spin chain of length n."
   ]
  },
  {
   "cell_type": "code",
   "execution_count": null,
   "metadata": {
    "scrolled": true
   },
   "outputs": [],
   "source": [
    "psi0= initial(psi)\n",
    "psi1= target(psi)\n",
    "\n",
    "timeS=(math.pi)*np.arange(0,9,0.01)\n",
    "\n",
    "f_list=[]\n",
    "\n",
    "for t in timeS:\n",
    "\n",
    "    evS=U(t)@psi0\n",
    "    f=fidelity(psi1,evS)\n",
    "    f_list.append(f)\n",
    "    \n",
    "f, ax=plt.subplots(1)\n",
    "    \n",
    "plt.plot(timeS, f_list)\n",
    "ax.xaxis.set_major_formatter(FuncFormatter(\n",
    "   lambda val,pos: '{:.0g}$\\pi$'.format(val/np.pi) if val !=0 else '0'\n",
    "))\n",
    "ax.xaxis.set_major_locator(MultipleLocator(base=np.pi))\n",
    "plt.xlabel(\"Time\")\n",
    "plt.ylabel(\"Fidelity of State Transfer\")\n",
    "plt.title('State Transfer for equal superposition (XY, n=6 spin chain).')"
   ]
  },
  {
   "cell_type": "markdown",
   "metadata": {},
   "source": [
    "We fail to get perfect state transfer above, because for superposition states the transfer is accurate only upto a systematic phase $\\phi$. We need to apply a phase correction to restore perfect state transfer for spin chains, and create a function below to generate these corrections."
   ]
  },
  {
   "cell_type": "code",
   "execution_count": null,
   "metadata": {},
   "outputs": [],
   "source": [
    "def phC(n, theta):\n",
    "    \n",
    "    phC=[]\n",
    "    \n",
    "    for i in range(2**n):\n",
    "        binary_number=dec2bin(i,n) #basis states generated by dec2bin function.\n",
    "        w_x=np.sum(binary_number) #Hamming Weight: counts 1s in the basis states. \n",
    "        pC_t=scipy.special.binom(w_x, 2)\n",
    "        for k in range(n):\n",
    "            theta=((2*k)-1)*(math.pi*(n-1))/2\n",
    "        from math import e\n",
    "        pC= e**(-1j*theta*w_x)*(-1)**(pC_t) #expression for phase correction \n",
    "\n",
    "        phC.append(pC)\n",
    "    \n",
    "    return(phC)"
   ]
  },
  {
   "cell_type": "markdown",
   "metadata": {},
   "source": [
    "Plot for state transfer of equal superposition over spin chain of length n with phase corrections."
   ]
  },
  {
   "cell_type": "code",
   "execution_count": null,
   "metadata": {},
   "outputs": [],
   "source": [
    "f_list=[]\n",
    "timeS=np.arange(0,9,0.01)\n",
    "\n",
    "theta=(math.pi*((n)-1))/2 \n",
    "theta1=((2*n)-1)*(math.pi*((n)-1))/2\n",
    "\n",
    "lst=phC(n, theta)\n",
    "lst1=phC(n, theta1)\n",
    "\n",
    "pc_switch=0\n",
    "t_save=0\n",
    "\n",
    "for i in timeS:\n",
    "    t=i*math.pi #compute time\n",
    "    if (t-t_save)>=2*math.pi:\n",
    "        t_save=i*math.pi\n",
    "        pc_switch=(pc_switch +1) %2\n",
    "\n",
    "    evS=U(t)@psi0\n",
    "    st=evS #evolved state\n",
    "\n",
    "    if pc_switch==0:\n",
    "        pc=lst1\n",
    "    elif pc_switch==1:\n",
    "        pc=lst\n",
    "    \n",
    "    for j,_ in enumerate(st):\n",
    "        st[j]=pc[j]*st[j] #evolved state*correction\n",
    "\n",
    "    f=fidelity(psi1,st)\n",
    "    f_list.append(f) \n",
    "    \n",
    "f, ax=plt.subplots(1)\n",
    "    \n",
    "plt.plot(timeS, f_list)\n",
    "ax.xaxis.set_major_formatter(FuncFormatter(\n",
    "    lambda val,pos: '{:.0g}$\\pi$'.format(val) if val !=0 else '0'\n",
    "))\n",
    "ax.xaxis.set_major_locator(MultipleLocator())\n",
    "plt.title('State Transfer for equal superposition (XY, n=6 spin chain, phase corrected).')"
   ]
  },
  {
   "cell_type": "markdown",
   "metadata": {},
   "source": [
    "Now try state transfer for a random arbitrary superposition, and generate corresponding plot with phase corrections. "
   ]
  },
  {
   "cell_type": "code",
   "execution_count": null,
   "metadata": {},
   "outputs": [],
   "source": [
    "#random state\n",
    "a=np.random.random()+1j*np.random.random() \n",
    "b=np.random.random()+1j*np.random.random()\n",
    "psi=superposition_state(a,b)\n",
    "\n",
    "psi0= initial(psi)\n",
    "psi1= target(psi)\n",
    "\n",
    "f_list=[]\n",
    "timeS=np.arange(0,9,0.01)\n",
    "\n",
    "theta=(math.pi*((n)-1))/2 \n",
    "theta1=((2*n)-1)*(math.pi*((n)-1))/2\n",
    "\n",
    "lst=phC(n, theta)\n",
    "lst1=phC(n, theta1)\n",
    "\n",
    "pc_switch=0\n",
    "t_save=0\n",
    "\n",
    "for i in timeS:\n",
    "    t=i*math.pi #compute time\n",
    "    if (t-t_save)>=2*math.pi:\n",
    "        t_save=i*math.pi\n",
    "        pc_switch=(pc_switch +1) %2\n",
    "\n",
    "    evS=U(t)@psi0\n",
    "    st=evS #evolved state\n",
    "\n",
    "    if pc_switch==0:\n",
    "        pc=lst1\n",
    "    elif pc_switch==1:\n",
    "        pc=lst\n",
    "    \n",
    "    for j,_ in enumerate(st):\n",
    "        st[j]=pc[j]*st[j] #evolved state*correction\n",
    "\n",
    "    f=fidelity(psi1,st)\n",
    "    f_list.append(f) \n",
    "    \n",
    "f, ax=plt.subplots(1)\n",
    "    \n",
    "plt.plot(timeS, f_list)\n",
    "ax.xaxis.set_major_formatter(FuncFormatter(\n",
    "    lambda val,pos: '{:.0g}$\\pi$'.format(val) if val !=0 else '0'\n",
    "))\n",
    "ax.xaxis.set_major_locator(MultipleLocator())\n",
    "plt.title('State Transfer for arbitrary superposition (XY, n=6 spin chain, phase corrected).')"
   ]
  }
 ],
 "metadata": {
  "kernelspec": {
   "display_name": "Python 3",
   "language": "python",
   "name": "python3"
  },
  "language_info": {
   "codemirror_mode": {
    "name": "ipython",
    "version": 3
   },
   "file_extension": ".py",
   "mimetype": "text/x-python",
   "name": "python",
   "nbconvert_exporter": "python",
   "pygments_lexer": "ipython3",
   "version": "3.7.3"
  }
 },
 "nbformat": 4,
 "nbformat_minor": 2
}
