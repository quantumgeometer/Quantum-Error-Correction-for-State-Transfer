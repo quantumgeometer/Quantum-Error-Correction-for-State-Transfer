{
 "cells": [
  {
   "cell_type": "code",
   "execution_count": 1,
   "metadata": {},
   "outputs": [],
   "source": [
    "import numpy as np\n",
    "import math\n",
    "import scipy\n",
    "from scipy import linalg\n",
    "from matplotlib import pyplot as plt\n",
    "from matplotlib.ticker import FuncFormatter, MultipleLocator\n",
    "from mod2 import mod10_to_mod2 as dec2bin"
   ]
  },
  {
   "cell_type": "markdown",
   "metadata": {},
   "source": [
    "Create functions required for defining Hamiltonian State Transfer on Python."
   ]
  },
  {
   "cell_type": "code",
   "execution_count": 2,
   "metadata": {},
   "outputs": [],
   "source": [
    "#n-qubit statevector emulator\n",
    "def ket2state_vec(ket):\n",
    "    \n",
    "    #basis states\n",
    "    zero=np.array([1,0])\n",
    "    one=np.array([0,1]) \n",
    "    \n",
    "    #loop through ket\n",
    "    \n",
    "    if ket[0]==0: temp=zero\n",
    "    elif ket[0]==1: temp=one\n",
    "    \n",
    "    for i,_ in enumerate(ket):\n",
    "        \n",
    "        if i == len(ket)-1: break\n",
    "            \n",
    "        if ket[i+1]==0: temp2=zero\n",
    "        elif ket[i+1]==1: temp2=one\n",
    "    \n",
    "        temp=np.kron(temp,temp2)\n",
    "        \n",
    "    return temp\n",
    "\n",
    "#pauli matrices\n",
    "p_x = np.array([[0.,  1.], [1.,  0.]])\n",
    "p_y = np.array([[0., -1j], [1j,  0.]])\n",
    "p_z = np.array([[1.,  0.], [0., -1.]])\n",
    "I = np.identity(2)\n",
    "\n",
    "def k_kron(*args):\n",
    "    \"\"\"\n",
    "    The standard Python kron function takes only 2 inputs at a time by default, so we define another function that \n",
    "    takes in arbitrary inputs.\n",
    "    \"\"\"\n",
    "    ret = np.array([1])\n",
    "    for q in args:\n",
    "        ret = np.kron(ret, q)\n",
    "    return ret"
   ]
  },
  {
   "cell_type": "markdown",
   "metadata": {},
   "source": [
    "Create a function for state transfer over spin chain of length n=2, based on Hamiltonian for the Heisenberg XY model.  To correct for phases, a sum of Pauli $Z$ terms are also added."
   ]
  },
  {
   "cell_type": "code",
   "execution_count": 3,
   "metadata": {},
   "outputs": [],
   "source": [
    "def exchangeH(n, B=0.5):\n",
    "    \n",
    "    def J(k,n):\n",
    "        return (1/2)*math.sqrt((k+1)*(n-(k+1)))\n",
    "\n",
    "    h=np.zeros((2**n,2**n)).astype(\"complex128\")\n",
    "\n",
    "    for k in range(n-1):\n",
    "        kron_list=[I]*n       \n",
    "        kron_list[k]=p_x \n",
    "        kron_list[k+1]=p_x \n",
    "\n",
    "        h+=J(k,n)*k_kron(*kron_list)\n",
    "\n",
    "    for k in range(n-1):\n",
    "        kron_list=[I]*n       \n",
    "        kron_list[k]=p_y\n",
    "        kron_list[k+1]=p_y\n",
    "\n",
    "        h+=J(k,n)*k_kron(*kron_list)\n",
    "       \n",
    "    for k in range(n):\n",
    "        kron_list=[I]*n\n",
    "        kron_list[k]= p_z \n",
    "\n",
    "        h+=B*k_kron(*kron_list)      \n",
    "\n",
    "#found through trial and error that coupling strength of B=0.5 fixes phase shifts in state transfer over 2 qubits.\n",
    "        \n",
    "    return(h/2)"
   ]
  },
  {
   "cell_type": "markdown",
   "metadata": {},
   "source": [
    "Define time evolution over grid of 3 spin chains."
   ]
  },
  {
   "cell_type": "code",
   "execution_count": 4,
   "metadata": {},
   "outputs": [],
   "source": [
    "h=exchangeH(2)\n",
    "\n",
    "def timeev(h,t):\n",
    "    tempU = linalg.expm(-1j*h*t)\n",
    "    return k_kron(tempU,tempU,tempU)\n",
    "\n",
    "def U(t):\n",
    "    return timeev(h,t)"
   ]
  },
  {
   "cell_type": "markdown",
   "metadata": {},
   "source": [
    "Create functions for generating initial and target superposition states for state transfer."
   ]
  },
  {
   "cell_type": "code",
   "execution_count": 5,
   "metadata": {},
   "outputs": [
    {
     "data": {
      "text/plain": [
       "(64,)"
      ]
     },
     "execution_count": 5,
     "metadata": {},
     "output_type": "execute_result"
    }
   ],
   "source": [
    "def fidelity(S,evS):\n",
    "    fidelity= abs(np.conjugate(S.T)@evS)\n",
    "    return fidelity\n",
    "\n",
    "def normalise(vec): \n",
    "    norm=np.sqrt(np.conjugate(vec).T@vec)\n",
    "    return vec/norm\n",
    "#function for creating  superposition states\n",
    "def superposition_state(a,b):\n",
    "  psi=a*ket2state_vec([0])+b*ket2state_vec([1])\n",
    "  return normalise(psi)\n",
    "\n",
    "a=np.random.random()+1j*np.random.random() \n",
    "b=np.random.random()+1j*np.random.random()\n",
    "psi=superposition_state(a,b)\n",
    "\n",
    "n=2 #spin chain length\n",
    "temp = ket2state_vec([0]*(n-1)) # |000...>\n",
    "\n",
    "#intial spin chain state (psi on left)\n",
    "def initial(psi):\n",
    "    st1=np.kron(psi,temp)\n",
    "    return k_kron(st1, st1, st1) # initial= |psi>|0...> \\otimes |psi>|0...> \\otimes |0...>|psi> \n",
    "\n",
    "#final spin chain state (psi on right)\n",
    "def target(psi):\n",
    "    st2=np.kron(temp, psi)\n",
    "    return k_kron(st2, st2, st2) # target= |0...>|psi> \\otimes |0...>|psi> \\otimes |0...>|psi> \n",
    "\n",
    "target(psi).shape"
   ]
  },
  {
   "cell_type": "code",
   "execution_count": 6,
   "metadata": {},
   "outputs": [
    {
     "data": {
      "text/plain": [
       "Text(0.5, 1.0, 'State Transfer over grid of 3 chains (length n=2, XY+gZ with g=0,5).')"
      ]
     },
     "execution_count": 6,
     "metadata": {},
     "output_type": "execute_result"
    },
    {
     "data": {
      "image/png": "[encoded data removed]",
      "text/plain": [
       "<Figure size 432x288 with 1 Axes>"
      ]
     },
     "metadata": {
      "needs_background": "light"
     },
     "output_type": "display_data"
    }
   ],
   "source": [
    "timeS=(math.pi)*np.arange(0,9,0.01)\n",
    "\n",
    "f_list=[]\n",
    "\n",
    "for t in timeS:\n",
    "    evS=U(t)@initial(psi)\n",
    "    # print(U(t))\n",
    "    f=fidelity(target(psi),evS)\n",
    "    f_list.append(f)\n",
    "    \n",
    "f, ax=plt.subplots(1)\n",
    "    \n",
    "plt.plot(timeS, f_list)\n",
    "ax.xaxis.set_major_formatter(FuncFormatter(\n",
    "   lambda val,pos: '{:.0g}$\\pi$'.format(val/np.pi) if val !=0 else '0'\n",
    "))\n",
    "ax.xaxis.set_major_locator(MultipleLocator(base=np.pi))\n",
    "plt.xlabel(\"Time\")\n",
    "plt.ylabel(\"Fidelity of State Transfer\")\n",
    "plt.title('State Transfer over grid of 3 chains (length n=2, XY+gZ with g=0,5).')"
   ]
  }
 ],
 "metadata": {
  "kernelspec": {
   "display_name": "Python 3",
   "language": "python",
   "name": "python3"
  },
  "language_info": {
   "codemirror_mode": {
    "name": "ipython",
    "version": 3
   },
   "file_extension": ".py",
   "mimetype": "text/x-python",
   "name": "python",
   "nbconvert_exporter": "python",
   "pygments_lexer": "ipython3",
   "version": "3.7.3"
  }
 },
 "nbformat": 4,
 "nbformat_minor": 2
}
